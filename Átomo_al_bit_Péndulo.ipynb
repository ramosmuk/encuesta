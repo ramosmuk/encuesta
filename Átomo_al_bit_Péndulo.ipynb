{
  "nbformat": 4,
  "nbformat_minor": 0,
  "metadata": {
    "colab": {
      "provenance": [],
      "include_colab_link": true
    },
    "kernelspec": {
      "name": "python3",
      "display_name": "Python 3"
    },
    "language_info": {
      "name": "python"
    }
  },
  "cells": [
    {
      "cell_type": "markdown",
      "metadata": {
        "id": "view-in-github",
        "colab_type": "text"
      },
      "source": [
        "<a href=\"https://colab.research.google.com/github/ramosmuk/encuesta/blob/main/%C3%81tomo_al_bit_P%C3%A9ndulo.ipynb\" target=\"_parent\"><img src=\"https://colab.research.google.com/assets/colab-badge.svg\" alt=\"Open In Colab\"/></a>"
      ]
    },
    {
      "cell_type": "code",
      "execution_count": 10,
      "metadata": {
        "colab": {
          "base_uri": "https://localhost:8080/",
          "height": 1000
        },
        "id": "ORUFAr5M8C3P",
        "outputId": "3213fd74-be46-4582-aac4-35ffcac6e127"
      },
      "outputs": [
        {
          "output_type": "display_data",
          "data": {
            "text/plain": [
              "<Figure size 432x288 with 1 Axes>"
            ],
            "image/png": "[encoded data removed]"
          },
          "metadata": {
            "needs_background": "light"
          }
        },
        {
          "output_type": "display_data",
          "data": {
            "text/plain": [
              "<Figure size 432x288 with 1 Axes>"
            ],
            "image/png": "[encoded data removed]"
          },
          "metadata": {
            "needs_background": "light"
          }
        },
        {
          "output_type": "display_data",
          "data": {
            "text/plain": [
              "<Figure size 432x288 with 1 Axes>"
            ],
            "image/png": "[encoded data removed]"
          },
          "metadata": {
            "needs_background": "light"
          }
        },
        {
          "output_type": "display_data",
          "data": {
            "text/plain": [
              "<Figure size 432x288 with 1 Axes>"
            ],
            "image/png": "[encoded data removed]"
          },
          "metadata": {
            "needs_background": "light"
          }
        },
        {
          "output_type": "display_data",
          "data": {
            "text/plain": [
              "<Figure size 432x288 with 1 Axes>"
            ],
            "image/png": "[encoded data removed]"
          },
          "metadata": {
            "needs_background": "light"
          }
        }
      ],
      "source": [
        "from matplotlib import pyplot\n",
        "\n",
        "\n",
        "# Data for the bar graph\n",
        "data = [1/3, 2/3]\n",
        "series = ['p10','p11']\n",
        "\n",
        "#create the bar graph\n",
        "pyplot.bar(series, data)\n",
        "\n",
        "#display the bar graph\n",
        "pyplot.show()\n",
        "\n",
        "\n",
        "from matplotlib import pyplot\n",
        "\n",
        "\n",
        "# Data for the bar graph\n",
        "data = [1/3, 2/3]\n",
        "series = ['p20','p21']\n",
        "\n",
        "#create the bar graph\n",
        "pyplot.bar(series, data)\n",
        "\n",
        "#display the bar graph\n",
        "pyplot.show()\n",
        "\n",
        "from matplotlib import pyplot\n",
        "\n",
        "\n",
        "# Data for the bar graph\n",
        "data = [1/3, 2/3]\n",
        "series = ['p30','p31']\n",
        "\n",
        "#create the bar graph\n",
        "pyplot.bar(series, data)\n",
        "\n",
        "#display the bar graph\n",
        "pyplot.show()\n",
        "\n",
        "\n",
        "\n",
        "\n",
        "from matplotlib import pyplot\n",
        "\n",
        "\n",
        "# Data for the bar graph\n",
        "data = [3/3, 3/3]\n",
        "series = ['p40','p41']\n",
        "\n",
        "#create the bar graph\n",
        "pyplot.bar(series, data)\n",
        "\n",
        "#display the bar graph\n",
        "pyplot.show()\n",
        "\n",
        "\n",
        "from matplotlib import pyplot\n",
        "\n",
        "\n",
        "# Data for the bar graph\n",
        "data = [1/3, 2/3]\n",
        "series = ['p50','p51']\n",
        "\n",
        "#create the bar graph\n",
        "pyplot.bar(series, data)\n",
        "\n",
        "#display the bar graph\n",
        "pyplot.show()"
      ]
    }
  ]
}